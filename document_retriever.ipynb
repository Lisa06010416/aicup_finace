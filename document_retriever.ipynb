{
 "cells": [
  {
   "cell_type": "code",
   "execution_count": 2,
   "metadata": {},
   "outputs": [],
   "source": [
    "from difflib import SequenceMatcher\n",
    "import json\n",
    "import os\n",
    "from collections import defaultdict"
   ]
  },
  {
   "cell_type": "code",
   "execution_count": 3,
   "metadata": {},
   "outputs": [],
   "source": [
    "property = \"finance\""
   ]
  },
  {
   "cell_type": "markdown",
   "metadata": {},
   "source": [
    "# Read dataset"
   ]
  },
  {
   "cell_type": "code",
   "execution_count": 4,
   "metadata": {},
   "outputs": [],
   "source": [
    "file_path = '競賽資料集/dataset/preliminary/questions_example.json'\n",
    "with open(file_path, 'r', encoding='utf-8') as file:\n",
    "    questions = json.load(file)\n",
    "\n",
    "\n",
    "file_path = '競賽資料集/dataset/preliminary/ground_truths_example.json'\n",
    "with open(file_path, 'r', encoding='utf-8') as file:\n",
    "    ground_truths = json.load(file)\n",
    "\n",
    "\n",
    "file_path = f'output/{property}_kw_extraction.json'\n",
    "with open(file_path, 'r', encoding='utf-8') as file:\n",
    "    document_kw_dict = json.load(file)\n",
    "\n",
    "\n",
    "\n",
    "file_path = f\"output/{property}_question_kw.json\"\n",
    "with open(file_path, 'r', encoding='utf-8') as file:\n",
    "    question_kw_dict = json.load(file)"
   ]
  },
  {
   "cell_type": "code",
   "execution_count": 8,
   "metadata": {},
   "outputs": [],
   "source": [
    "def get_document_kw(property, document_id):\n",
    "    document_path = os.path.join(property, str(document_id) + \".pdf\")\n",
    "\n",
    "    merged_dict = defaultdict(list)\n",
    "    \n",
    "    for page in document_kw_dict[document_path]:\n",
    "        temp_kw = page[\"kw\"]\n",
    "        for key, value in temp_kw.items():\n",
    "            merged_dict[key].extend(value)\n",
    "    \n",
    "    for key in merged_dict:\n",
    "        merged_dict[key] = list(set(merged_dict[key]))\n",
    "    \n",
    "    return merged_dict"
   ]
  },
  {
   "cell_type": "code",
   "execution_count": 11,
   "metadata": {},
   "outputs": [
    {
     "data": {
      "text/plain": [
       "defaultdict(list,\n",
       "            {'Person': [],\n",
       "             'Place': ['美國加州',\n",
       "              '阿拉巴馬州',\n",
       "              '美國德州',\n",
       "              '德拉瓦州',\n",
       "              '馬來西亞',\n",
       "              '中國',\n",
       "              '德國',\n",
       "              '巴西',\n",
       "              '義大利',\n",
       "              '日本'],\n",
       "             'Company': [],\n",
       "             'Time': ['112年3月31日',\n",
       "              '111年1至3月',\n",
       "              '111年3月31日',\n",
       "              '112年1至3月',\n",
       "              '111年12月31日'],\n",
       "             'finance terminology': ['融資',\n",
       "              '總計',\n",
       "              '授信額度',\n",
       "              '帳面價值',\n",
       "              '短期借款',\n",
       "              '合約承諾',\n",
       "              '銀行借款',\n",
       "              '流動資產',\n",
       "              '退職後福利',\n",
       "              '薪資及其他短期員工福利',\n",
       "              '專利侵權訟',\n",
       "              '非流動資產']})"
      ]
     },
     "execution_count": 11,
     "metadata": {},
     "output_type": "execute_result"
    }
   ],
   "source": [
    "get_document_kw(property, 2)"
   ]
  },
  {
   "cell_type": "markdown",
   "metadata": {},
   "source": [
    "# Similariry"
   ]
  },
  {
   "cell_type": "code",
   "execution_count": 6,
   "metadata": {},
   "outputs": [],
   "source": [
    "def get_similarity(str1, str2):\n",
    "    similarity = SequenceMatcher(None, str1, str2).ratio()\n",
    "    return similarity\n",
    "\n",
    "\n",
    "def cal_kw_similarity(dkw1, dkw2):\n",
    "    for key in dkw1:\n",
    "        kw_list1 = dkw1[key]\n",
    "        kw_list2 = dkw2[key]\n",
    "\n",
    "    similarity_results = []\n",
    "\n",
    "    for kw1 in kw_list1:\n",
    "        max_similarity = -1\n",
    "        best_match = None\n",
    "\n",
    "        for kw2 in kw_list2:\n",
    "            similarity = get_similarity(kw1, kw2)\n",
    "\n",
    "            if similarity > max_similarity:\n",
    "                max_similarity = similarity\n",
    "                best_match = kw2\n",
    "\n",
    "        if best_match is not None and max_similarity > 0:\n",
    "            similarity_results.append((kw1, best_match, max_similarity))\n",
    "    return similarity_results"
   ]
  },
  {
   "cell_type": "code",
   "execution_count": 13,
   "metadata": {},
   "outputs": [],
   "source": [
    "retieve_result = {}\n",
    "\n",
    "# temp_questions = [questions[\"questions\"][52]]\n",
    "\n",
    "for question in questions[\"questions\"]:\n",
    "    question_wk = question_kw_dict[str(question[\"qid\"])]  # get question kw\n",
    "    \n",
    "    if question[\"category\"] == property:\n",
    "        # print(f\"==================qid: {question['qid']}======================\")\n",
    "        # print(question[\"query\"])\n",
    "        # print(question_wk)\n",
    "        max_similarity = 0\n",
    "        max_document = None\n",
    "\n",
    "        # print(\"\\ndocumment match:\")\n",
    "        for document in question[\"source\"]:\n",
    "            document_kw = get_document_kw(property, document)\n",
    "            similarity_list = cal_kw_similarity(question_wk, document_kw)\n",
    "            \n",
    "            similarity = sum([i[2] for i in similarity_list]) / 3\n",
    "            similarity = similarity if similarity < 1 else 1\n",
    "\n",
    "            # print(document, similarity, similarity_list)\n",
    "\n",
    "            # 比較當前相似度是否是最大的\n",
    "            if similarity > max_similarity:\n",
    "                max_similarity = similarity\n",
    "                max_document = document\n",
    "\n",
    "        retieve_result[question[\"qid\"]] = max_document\n"
   ]
  },
  {
   "cell_type": "code",
   "execution_count": null,
   "metadata": {},
   "outputs": [],
   "source": [
    "ground_truths[\"ground_truths\"]\n",
    "\n",
    "correct = 0\n",
    "all = 0\n",
    "not_noun = 0\n",
    "for ground_truth in ground_truths[\"ground_truths\"]:\n",
    "    if ground_truth[\"category\"] == property:\n",
    "        print(\"========================\")\n",
    "        print(\"qid:\", ground_truth[\"qid\"])\n",
    "        print(\"ground truth retrieve:\", ground_truth[\"retrieve\"])\n",
    "        print(\"predict retrieve:\", retieve_result[ground_truth[\"qid\"]])\n",
    "\n",
    "        if ground_truth[\"retrieve\"] == retieve_result[ground_truth[\"qid\"]]:\n",
    "            print(\"correct\")\n",
    "            correct += 1\n",
    "        else:\n",
    "            print(\"error\")\n",
    "\n",
    "        if retieve_result[ground_truth[\"qid\"]]:\n",
    "            not_noun += 1\n",
    "        all += 1"
   ]
  },
  {
   "cell_type": "code",
   "execution_count": 148,
   "metadata": {},
   "outputs": [
    {
     "data": {
      "text/plain": [
       "0.52"
      ]
     },
     "execution_count": 148,
     "metadata": {},
     "output_type": "execute_result"
    }
   ],
   "source": [
    "correct / all"
   ]
  },
  {
   "cell_type": "code",
   "execution_count": 149,
   "metadata": {},
   "outputs": [
    {
     "data": {
      "text/plain": [
       "0.5777777777777777"
      ]
     },
     "execution_count": 149,
     "metadata": {},
     "output_type": "execute_result"
    }
   ],
   "source": [
    "correct / not_noun"
   ]
  }
 ],
 "metadata": {
  "kernelspec": {
   "display_name": ".venv",
   "language": "python",
   "name": "python3"
  },
  "language_info": {
   "codemirror_mode": {
    "name": "ipython",
    "version": 3
   },
   "file_extension": ".py",
   "mimetype": "text/x-python",
   "name": "python",
   "nbconvert_exporter": "python",
   "pygments_lexer": "ipython3",
   "version": "3.9.6"
  }
 },
 "nbformat": 4,
 "nbformat_minor": 2
}
